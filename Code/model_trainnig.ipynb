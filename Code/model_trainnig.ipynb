{
 "cells": [
  {
   "cell_type": "markdown",
   "id": "5777fb18",
   "metadata": {},
   "source": [
    "# Data creation "
   ]
  },
  {
   "cell_type": "code",
   "execution_count": 1,
   "id": "44a8dfae",
   "metadata": {},
   "outputs": [],
   "source": [
    "from cleaning_image import Cleaning_image\n",
    "from data_creation import Data_creation\n",
    "from models import Models_pollen\n",
    "import os\n",
    "import pandas as pd\n",
    "import numpy as np\n",
    "import pickle as pick\n",
    "from warnings import filterwarnings\n",
    "filterwarnings(\"ignore\")\n",
    "\n",
    "# The quantity of species supossed of the whole sample\n",
    "botanical_species=32\n",
    "seed=42\n",
    "\n",
    "# Number of visits\n",
    "visits=4\n",
    "\n",
    "# Color space parameter\n",
    "color_space=\"uv\"\n",
    "data_creation=Data_creation(botanical_species=botanical_species,seed=seed)\n",
    "cleaning_image=Cleaning_image(botanical_species=botanical_species,seed=seed)"
   ]
  },
  {
   "cell_type": "markdown",
   "id": "127c302b",
   "metadata": {},
   "source": [
    "## Initial base"
   ]
  },
  {
   "cell_type": "code",
   "execution_count": null,
   "id": "737ac00c",
   "metadata": {},
   "outputs": [],
   "source": [
    "# Dabase of control of sampling\n",
    "Control=pd.read_excel(\"Control/Control.xlsx\")\n",
    "Control.sort_values(by=\"Productor\",inplace=True)\n",
    "\n",
    "# Folder of the images\n",
    "photographer_foldder=os.listdir(\"images\")\n",
    "\n",
    "\n",
    "visit_folder=[\"V\"+str(i+1) for i in range(0,visits)]\n",
    "\n",
    "images=list()\n",
    "data=list()\n",
    "\n",
    "# Initial database creation to control the models\n",
    "for f in photographer_foldder[:2]:\n",
    "        for v in visit_folder:\n",
    "            images=[f\"images/{f}/{v}/\"+i for i in os.listdir(f\"images/{f}/{v}/\")]+images\n",
    "            for i in images:\n",
    "                data.append((int(i[13:15]), int(i[15:17]),int(i[17:19]), int(i[19:21]), int(i[21:23]),\n",
    "                            Control.drop_duplicates(subset=\"Nombre\")[\"Nombre\"][Control[\"Productor\"]==int(i[15:17])].values[0],\n",
    "                            i))\n",
    "df_initial=pd.DataFrame(data,columns=[\"Photographer\",\"Producer\", \"Sample\", \"Visit\", \"Moment\", \"Name\", \"Link\"])\n",
    "df_initial.drop_duplicates(inplace=True)\n",
    "df_initial.reset_index(drop=True,inplace=True)\n",
    "df_initial"
   ]
  },
  {
   "cell_type": "markdown",
   "id": "d6016229",
   "metadata": {},
   "source": [
    "## Photo cleaning collection"
   ]
  },
  {
   "cell_type": "code",
   "execution_count": 4,
   "id": "3300bbaf",
   "metadata": {},
   "outputs": [
    {
     "name": "stdout",
     "output_type": "stream",
     "text": [
      "Visit 1\n",
      "Visit 2\n",
      "Visit 3\n",
      "Visit 4\n"
     ]
    }
   ],
   "source": [
    "croped_rate=0.1\n",
    "width_image=250\n",
    "high_image=150\n",
    "\n",
    "List_data_image=list()\n",
    "\n",
    "# Image cleaning\n",
    "for i in range(1,df_initial[\"Visit\"].max()+1):\n",
    "        photos_data=data_creation.data_photo_collection(df_initial[\"Link\"][(df_initial[\"Visit\"]==i)], # & (df_initial[\"Moment\"]==np.random.choice([1,2]))],\n",
    "                                color_space=color_space,sav=False, sav_name=f\"data_image_part{i}\", croped_rate=croped_rate, \n",
    "                                sav_path=\"Z:/unal/Tesis/Imagenes/Code/data/\", width_image=width_image,high_image=high_image)\n",
    "        print(f\"Visit {i}\")\n",
    "        List_data_image= List_data_image + photos_data"
   ]
  },
  {
   "cell_type": "markdown",
   "id": "ec7a91b2",
   "metadata": {},
   "source": [
    "## Klustering model for getting of the colors representation"
   ]
  },
  {
   "cell_type": "code",
   "execution_count": null,
   "id": "554963ac",
   "metadata": {},
   "outputs": [],
   "source": [
    "# Clustering color model and center data representation\n",
    "clustering_model, center_representation=data_creation.color_represent_data(cleaned_photos_array=List_data_image,\n",
    "                iterations=200, max_iter_kmeans=150, max_iter_minikmeans=150, sub_cluster_rate=1e-6, sub_data_rate=0.3,\n",
    "                sav=False, sav_name=f\"group_model_32_uv\",sav_path=\"Z:/unal/Tesis/Imagenes/Code/models/\")"
   ]
  },
  {
   "cell_type": "markdown",
   "id": "47197836",
   "metadata": {},
   "source": [
    "## Proportion data base"
   ]
  },
  {
   "cell_type": "code",
   "execution_count": null,
   "id": "8dbed5d8",
   "metadata": {},
   "outputs": [],
   "source": [
    "photo_dimension=len(color_space)\n",
    "df_prop=pd.DataFrame(columns=data_creation.columnas())\n",
    "\n",
    "\n",
    "# Data training\n",
    "for im in List_data_image:\n",
    "    labels_photo=clustering_model.predict(im.reshape(-1,photo_dimension))\n",
    "    data_prop_aux=data_creation.charac_vector(labes_colors=labels_photo, center_color_representation=center_representation,\n",
    "                                          color_vector_out=np.array([ 96, 136]), cleaning_level=15)\n",
    "    df_prop=pd.concat([df_prop,pd.DataFrame(np.c_[data_prop_aux].T, columns=data_creation.columnas())])\n",
    "df_prop.reset_index(drop=True,inplace=True)\n",
    "df_model=pd.concat([df_initial[[\"Moment\",\"Producer\",\"Name\",\"Sample\", \"Visit\",\"Photographer\"]].reset_index(drop=True),df_prop],axis=1)\n",
    "df_model.reset_index(drop=True)"
   ]
  },
  {
   "cell_type": "markdown",
   "id": "b5a79f07",
   "metadata": {},
   "source": [
    "# Model training"
   ]
  },
  {
   "cell_type": "code",
   "execution_count": null,
   "id": "a8c4b477",
   "metadata": {},
   "outputs": [],
   "source": [
    "from sklearn.svm import SVC\n",
    "from sklearn.ensemble import RandomForestClassifier\n",
    "import matplotlib.pyplot as plt\n",
    "from graphics_results import Graphic_results\n",
    "\n",
    "model_pollen=Models_pollen(data=df_model,botanical_species=botanical_species,seed=seed)\n",
    "graphic_results=Graphic_results(botanical_species=botanical_species, seed=seed)\n",
    "rate_split=2/3"
   ]
  },
  {
   "cell_type": "code",
   "execution_count": null,
   "id": "e95cd85d",
   "metadata": {},
   "outputs": [],
   "source": [
    "## Data partition\n",
    "X_train,Y_train,X_val,Y_val,Positions,pos_val = model_pollen.Partition_balanced(cant_visitas=2,rate_split=2/3)\n",
    "\n",
    "## Label names\n",
    "Producer=df_initial[[\"Producer\",\"Name\"]].sort_values(by=\"Producer\")[\"Name\"].unique()\n",
    "\n",
    "plt.bar(Producer,height=np.unique_counts(Y_train[\"Producer\"])[1])\n",
    "plt.xlabel(\"Beeckeepers\")\n",
    "plt.ylabel(\"Count\")\n",
    "plt.xticks(rotation=85, fontsize=10)\n",
    "plt.title(\"Frequency distribution train labels data\")\n",
    "plt.show()\n",
    "\n",
    "\n",
    "plt.bar(Producer,height=np.unique_counts(Y_val[\"Producer\"])[1])\n",
    "plt.xlabel(\"Beeckeepers\")\n",
    "plt.ylabel(\"Count\")\n",
    "plt.xticks(rotation=85, fontsize=10)\n",
    "plt.title(\"Frequency distribution val labels data\")\n",
    "plt.show()"
   ]
  },
  {
   "cell_type": "code",
   "execution_count": null,
   "id": "4f78bafd",
   "metadata": {},
   "outputs": [],
   "source": [
    "# Parameter of the propossed list of models\n",
    "parameters_list=[{\"C\":np.arange(0.9,1,0.01), \"kernel\":[\"poly\"], \"degree\":[ 6 , 7, 8], \"coef0\":np.arange(0.1,2,0.1),\n",
    "                \"decision_function_shape\":[\"ovr\"]}]\n",
    "\n",
    "# Lsit of propossed models\n",
    "model_estimators=[SVC(class_weight=\"balanced\", random_state=seed, gamma=\"scale\", tol=5e-4)\n",
    "                  ]\n",
    "# List of training metrics\n",
    "scoring=[\"f1_weighted\", \"roc_auc_ovr\"]\n",
    "model_names=[\"SVC\"]\n",
    "\n",
    "# Tunning models\n",
    "results_models=model_pollen.model_tunning(estimator_models=model_estimators, params_dict=parameters_list, score_list=scoring,names_model=model_names,\n",
    "                                   X_train=X_train.drop(columns=\"Visit\"), Y_train=Y_train.drop(columns=\"Visit\"),cv=5)"
   ]
  },
  {
   "cell_type": "code",
   "execution_count": null,
   "id": "5e506623",
   "metadata": {},
   "outputs": [],
   "source": [
    "# Model evaluation\n",
    "\n",
    "SVC_model1=results_models[0][3]\n",
    "visit=4\n",
    "columns_metrics=[\"Visit\", \"balanced_Accuracy\", \"Recall_weighted\", \"Precision_weighted\", \"f1_score_weighted\"]\n",
    "results_metrics=pd.DataFrame(columns=columns_metrics)\n",
    "for k in range(1,visit+1):\n",
    "    X_validation=X_val[X_val[\"Visit\"]==k].drop(columns=\"Visit\")\n",
    "    Y_validation=Y_val[Y_val[\"Visit\"]==k].drop(columns=\"Visit\")\n",
    "    y_pred=SVC_model1.predict(X_validation)\n",
    "    acc, recall, preci, f1score, conf_matrix = graphic_results.get_results(y_test=Y_validation,pred_y=y_pred,save_image=True, eje=Producer, \n",
    "                                                                    path_image=f\"images_result/Confusion_matrix_visit_{k}\",\n",
    "                                                                    format_image=\"jpg\", tittle_image=f\"Confusion matrix for the visit {k}\")\n",
    "    results_metrics= pd.concat([results_metrics, pd.DataFrame([[k, acc, recall, preci, f1score]], columns=columns_metrics)],axis=0)\n",
    "results_metrics.reset_index(drop=True, inplace=True)\n",
    "results_metrics\n"
   ]
  }
 ],
 "metadata": {
  "kernelspec": {
   "display_name": "Python 3",
   "language": "python",
   "name": "python3"
  },
  "language_info": {
   "codemirror_mode": {
    "name": "ipython",
    "version": 3
   },
   "file_extension": ".py",
   "mimetype": "text/x-python",
   "name": "python",
   "nbconvert_exporter": "python",
   "pygments_lexer": "ipython3",
   "version": "3.13.2"
  }
 },
 "nbformat": 4,
 "nbformat_minor": 5
}
