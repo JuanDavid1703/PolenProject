{
 "cells": [
  {
   "cell_type": "markdown",
   "id": "5777fb18",
   "metadata": {},
   "source": [
    "# Data creation "
   ]
  },
  {
   "cell_type": "code",
   "execution_count": 1,
   "id": "44a8dfae",
   "metadata": {},
   "outputs": [],
   "source": [
    "from cleaning_image import Cleaning_image\n",
    "from data_creation import Data_creation\n",
    "import os\n",
    "import pandas as pd"
   ]
  },
  {
   "cell_type": "code",
   "execution_count": 2,
   "id": "bd366d24",
   "metadata": {},
   "outputs": [
    {
     "data": {
      "text/html": [
       "<div>\n",
       "<style scoped>\n",
       "    .dataframe tbody tr th:only-of-type {\n",
       "        vertical-align: middle;\n",
       "    }\n",
       "\n",
       "    .dataframe tbody tr th {\n",
       "        vertical-align: top;\n",
       "    }\n",
       "\n",
       "    .dataframe thead th {\n",
       "        text-align: right;\n",
       "    }\n",
       "</style>\n",
       "<table border=\"1\" class=\"dataframe\">\n",
       "  <thead>\n",
       "    <tr style=\"text-align: right;\">\n",
       "      <th></th>\n",
       "      <th>Producer</th>\n",
       "      <th>Visit</th>\n",
       "      <th>Photo_number</th>\n",
       "      <th>Number_sample</th>\n",
       "    </tr>\n",
       "  </thead>\n",
       "  <tbody>\n",
       "    <tr>\n",
       "      <th>0</th>\n",
       "      <td>ALEJANDRA GARCIA</td>\n",
       "      <td>1</td>\n",
       "      <td>1</td>\n",
       "      <td>1</td>\n",
       "    </tr>\n",
       "    <tr>\n",
       "      <th>1</th>\n",
       "      <td>ALEJANDRA GARCIA</td>\n",
       "      <td>1</td>\n",
       "      <td>1</td>\n",
       "      <td>2</td>\n",
       "    </tr>\n",
       "    <tr>\n",
       "      <th>2</th>\n",
       "      <td>ALEJANDRA GARCIA</td>\n",
       "      <td>1</td>\n",
       "      <td>1</td>\n",
       "      <td>3</td>\n",
       "    </tr>\n",
       "    <tr>\n",
       "      <th>3</th>\n",
       "      <td>ALEJANDRA GARCIA</td>\n",
       "      <td>1</td>\n",
       "      <td>1</td>\n",
       "      <td>4</td>\n",
       "    </tr>\n",
       "    <tr>\n",
       "      <th>4</th>\n",
       "      <td>ALEJANDRA GARCIA</td>\n",
       "      <td>1</td>\n",
       "      <td>1</td>\n",
       "      <td>5</td>\n",
       "    </tr>\n",
       "    <tr>\n",
       "      <th>...</th>\n",
       "      <td>...</td>\n",
       "      <td>...</td>\n",
       "      <td>...</td>\n",
       "      <td>...</td>\n",
       "    </tr>\n",
       "    <tr>\n",
       "      <th>155</th>\n",
       "      <td>ALVARO BURGOS</td>\n",
       "      <td>2</td>\n",
       "      <td>2</td>\n",
       "      <td>1</td>\n",
       "    </tr>\n",
       "    <tr>\n",
       "      <th>156</th>\n",
       "      <td>ALVARO BURGOS</td>\n",
       "      <td>2</td>\n",
       "      <td>2</td>\n",
       "      <td>2</td>\n",
       "    </tr>\n",
       "    <tr>\n",
       "      <th>157</th>\n",
       "      <td>ALVARO BURGOS</td>\n",
       "      <td>2</td>\n",
       "      <td>2</td>\n",
       "      <td>3</td>\n",
       "    </tr>\n",
       "    <tr>\n",
       "      <th>158</th>\n",
       "      <td>ALVARO BURGOS</td>\n",
       "      <td>2</td>\n",
       "      <td>2</td>\n",
       "      <td>4</td>\n",
       "    </tr>\n",
       "    <tr>\n",
       "      <th>159</th>\n",
       "      <td>ALVARO BURGOS</td>\n",
       "      <td>2</td>\n",
       "      <td>2</td>\n",
       "      <td>5</td>\n",
       "    </tr>\n",
       "  </tbody>\n",
       "</table>\n",
       "<p>160 rows × 4 columns</p>\n",
       "</div>"
      ],
      "text/plain": [
       "             Producer  Visit  Photo_number  Number_sample\n",
       "0    ALEJANDRA GARCIA      1             1              1\n",
       "1    ALEJANDRA GARCIA      1             1              2\n",
       "2    ALEJANDRA GARCIA      1             1              3\n",
       "3    ALEJANDRA GARCIA      1             1              4\n",
       "4    ALEJANDRA GARCIA      1             1              5\n",
       "..                ...    ...           ...            ...\n",
       "155     ALVARO BURGOS      2             2              1\n",
       "156     ALVARO BURGOS      2             2              2\n",
       "157     ALVARO BURGOS      2             2              3\n",
       "158     ALVARO BURGOS      2             2              4\n",
       "159     ALVARO BURGOS      2             2              5\n",
       "\n",
       "[160 rows x 4 columns]"
      ]
     },
     "execution_count": 2,
     "metadata": {},
     "output_type": "execute_result"
    }
   ],
   "source": [
    "quantity_visits=2\n",
    "botanical_species=20\n",
    "seed=42\n",
    "quantity_photos_per_sample=2\n",
    "producers=[\"ALEJANDRA GARCIA\", \"ALVARO BURGOS\"]\n",
    "quantity_samples_per_producer_per_visit=[[5,5], [5,5]]\n",
    "\n",
    "cleaning_image=Cleaning_image(botanical_species=botanical_species,seed=seed)\n",
    "data_creation=Data_creation(botanical_species=botanical_species,seed=seed)\n",
    "df_control=data_creation.create_df_control(producers=producers, quantity_photos_per_sample=quantity_photos_per_sample,\n",
    "                                           quantity_samples_per_producer_per_visit=quantity_samples_per_producer_per_visit,\n",
    "                                           quantity_visits=quantity_visits)\n",
    "\n",
    "\n",
    "# for q in range(1,quantity_visits+1):\n",
    "#     os.makedirs(\"Z:/unal/Tesis/Imagenes/Code/images/Visit_\"+str(q), exist_ok=True)\n",
    "\n",
    "df_control\n",
    "# save the photographies in the different folder in the images folder according to the visit\n",
    "\n",
    "\n"
   ]
  },
  {
   "cell_type": "code",
   "execution_count": null,
   "id": "01eb36d3",
   "metadata": {},
   "outputs": [],
   "source": []
  },
  {
   "cell_type": "markdown",
   "id": "3371fc47",
   "metadata": {},
   "source": [
    "# Model creration"
   ]
  },
  {
   "cell_type": "code",
   "execution_count": null,
   "id": "5ac6feb2",
   "metadata": {},
   "outputs": [],
   "source": []
  },
  {
   "cell_type": "markdown",
   "id": "91b9ac6b",
   "metadata": {},
   "source": [
    "# Results"
   ]
  },
  {
   "cell_type": "code",
   "execution_count": null,
   "id": "8adaeebb",
   "metadata": {},
   "outputs": [],
   "source": []
  }
 ],
 "metadata": {
  "kernelspec": {
   "display_name": "Python 3",
   "language": "python",
   "name": "python3"
  },
  "language_info": {
   "codemirror_mode": {
    "name": "ipython",
    "version": 3
   },
   "file_extension": ".py",
   "mimetype": "text/x-python",
   "name": "python",
   "nbconvert_exporter": "python",
   "pygments_lexer": "ipython3",
   "version": "3.13.2"
  }
 },
 "nbformat": 4,
 "nbformat_minor": 5
}
